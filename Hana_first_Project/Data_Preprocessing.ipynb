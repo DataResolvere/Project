{
 "cells": [
  {
   "cell_type": "code",
   "execution_count": 1,
   "id": "99a30b95",
   "metadata": {},
   "outputs": [],
   "source": [
    "import pandas as pd\n",
    "import numpy as np\n",
    "import seaborn as sns\n",
    "import matplotlib.pyplot as plt\n",
    "import statistics\n",
    "import warnings\n",
    "from matplotlib import rc\n",
    "from sklearn.preprocessing import LabelEncoder\n",
    "\n",
    "plt.rcParams['axes.unicode_minus'] = False\n",
    "rc('font', family='Malgun Gothic')\n",
    "%matplotlib inline\n",
    "\n",
    "\n",
    "warnings.filterwarnings('ignore')"
   ]
  },
  {
   "cell_type": "markdown",
   "id": "fdd4c348",
   "metadata": {},
   "source": [
    "# Train"
   ]
  },
  {
   "cell_type": "code",
   "execution_count": 2,
   "id": "bba44fdc",
   "metadata": {},
   "outputs": [
    {
     "data": {
      "text/html": [
       "<div>\n",
       "<style scoped>\n",
       "    .dataframe tbody tr th:only-of-type {\n",
       "        vertical-align: middle;\n",
       "    }\n",
       "\n",
       "    .dataframe tbody tr th {\n",
       "        vertical-align: top;\n",
       "    }\n",
       "\n",
       "    .dataframe thead th {\n",
       "        text-align: right;\n",
       "    }\n",
       "</style>\n",
       "<table border=\"1\" class=\"dataframe\">\n",
       "  <thead>\n",
       "    <tr style=\"text-align: right;\">\n",
       "      <th></th>\n",
       "      <th>ID</th>\n",
       "      <th>Customer_ID</th>\n",
       "      <th>Month</th>\n",
       "      <th>Name</th>\n",
       "      <th>Age</th>\n",
       "      <th>SSN</th>\n",
       "      <th>Occupation</th>\n",
       "      <th>Annual_Income</th>\n",
       "      <th>Monthly_Inhand_Salary</th>\n",
       "      <th>Num_Bank_Accounts</th>\n",
       "      <th>...</th>\n",
       "      <th>Credit_Mix</th>\n",
       "      <th>Outstanding_Debt</th>\n",
       "      <th>Credit_Utilization_Ratio</th>\n",
       "      <th>Credit_History_Age</th>\n",
       "      <th>Payment_of_Min_Amount</th>\n",
       "      <th>Total_EMI_per_month</th>\n",
       "      <th>Amount_invested_monthly</th>\n",
       "      <th>Payment_Behaviour</th>\n",
       "      <th>Monthly_Balance</th>\n",
       "      <th>Credit_Score</th>\n",
       "    </tr>\n",
       "  </thead>\n",
       "  <tbody>\n",
       "    <tr>\n",
       "      <th>0</th>\n",
       "      <td>0x1602</td>\n",
       "      <td>CUS_0xd40</td>\n",
       "      <td>January</td>\n",
       "      <td>Aaron Maashoh</td>\n",
       "      <td>23</td>\n",
       "      <td>821-00-0265</td>\n",
       "      <td>Scientist</td>\n",
       "      <td>19114.12</td>\n",
       "      <td>1824.843333</td>\n",
       "      <td>3</td>\n",
       "      <td>...</td>\n",
       "      <td>_</td>\n",
       "      <td>809.98</td>\n",
       "      <td>26.822620</td>\n",
       "      <td>22 Years and 1 Months</td>\n",
       "      <td>No</td>\n",
       "      <td>49.574949</td>\n",
       "      <td>80.41529543900253</td>\n",
       "      <td>High_spent_Small_value_payments</td>\n",
       "      <td>312.49408867943663</td>\n",
       "      <td>Good</td>\n",
       "    </tr>\n",
       "    <tr>\n",
       "      <th>1</th>\n",
       "      <td>0x1603</td>\n",
       "      <td>CUS_0xd40</td>\n",
       "      <td>February</td>\n",
       "      <td>Aaron Maashoh</td>\n",
       "      <td>23</td>\n",
       "      <td>821-00-0265</td>\n",
       "      <td>Scientist</td>\n",
       "      <td>19114.12</td>\n",
       "      <td>NaN</td>\n",
       "      <td>3</td>\n",
       "      <td>...</td>\n",
       "      <td>Good</td>\n",
       "      <td>809.98</td>\n",
       "      <td>31.944960</td>\n",
       "      <td>NaN</td>\n",
       "      <td>No</td>\n",
       "      <td>49.574949</td>\n",
       "      <td>118.28022162236736</td>\n",
       "      <td>Low_spent_Large_value_payments</td>\n",
       "      <td>284.62916249607184</td>\n",
       "      <td>Good</td>\n",
       "    </tr>\n",
       "    <tr>\n",
       "      <th>2</th>\n",
       "      <td>0x1604</td>\n",
       "      <td>CUS_0xd40</td>\n",
       "      <td>March</td>\n",
       "      <td>Aaron Maashoh</td>\n",
       "      <td>-500</td>\n",
       "      <td>821-00-0265</td>\n",
       "      <td>Scientist</td>\n",
       "      <td>19114.12</td>\n",
       "      <td>NaN</td>\n",
       "      <td>3</td>\n",
       "      <td>...</td>\n",
       "      <td>Good</td>\n",
       "      <td>809.98</td>\n",
       "      <td>28.609352</td>\n",
       "      <td>22 Years and 3 Months</td>\n",
       "      <td>No</td>\n",
       "      <td>49.574949</td>\n",
       "      <td>81.699521264648</td>\n",
       "      <td>Low_spent_Medium_value_payments</td>\n",
       "      <td>331.2098628537912</td>\n",
       "      <td>Good</td>\n",
       "    </tr>\n",
       "    <tr>\n",
       "      <th>3</th>\n",
       "      <td>0x1605</td>\n",
       "      <td>CUS_0xd40</td>\n",
       "      <td>April</td>\n",
       "      <td>Aaron Maashoh</td>\n",
       "      <td>23</td>\n",
       "      <td>821-00-0265</td>\n",
       "      <td>Scientist</td>\n",
       "      <td>19114.12</td>\n",
       "      <td>NaN</td>\n",
       "      <td>3</td>\n",
       "      <td>...</td>\n",
       "      <td>Good</td>\n",
       "      <td>809.98</td>\n",
       "      <td>31.377862</td>\n",
       "      <td>22 Years and 4 Months</td>\n",
       "      <td>No</td>\n",
       "      <td>49.574949</td>\n",
       "      <td>199.4580743910713</td>\n",
       "      <td>Low_spent_Small_value_payments</td>\n",
       "      <td>223.45130972736786</td>\n",
       "      <td>Good</td>\n",
       "    </tr>\n",
       "    <tr>\n",
       "      <th>4</th>\n",
       "      <td>0x1606</td>\n",
       "      <td>CUS_0xd40</td>\n",
       "      <td>May</td>\n",
       "      <td>Aaron Maashoh</td>\n",
       "      <td>23</td>\n",
       "      <td>821-00-0265</td>\n",
       "      <td>Scientist</td>\n",
       "      <td>19114.12</td>\n",
       "      <td>1824.843333</td>\n",
       "      <td>3</td>\n",
       "      <td>...</td>\n",
       "      <td>Good</td>\n",
       "      <td>809.98</td>\n",
       "      <td>24.797347</td>\n",
       "      <td>22 Years and 5 Months</td>\n",
       "      <td>No</td>\n",
       "      <td>49.574949</td>\n",
       "      <td>41.420153086217326</td>\n",
       "      <td>High_spent_Medium_value_payments</td>\n",
       "      <td>341.48923103222177</td>\n",
       "      <td>Good</td>\n",
       "    </tr>\n",
       "    <tr>\n",
       "      <th>...</th>\n",
       "      <td>...</td>\n",
       "      <td>...</td>\n",
       "      <td>...</td>\n",
       "      <td>...</td>\n",
       "      <td>...</td>\n",
       "      <td>...</td>\n",
       "      <td>...</td>\n",
       "      <td>...</td>\n",
       "      <td>...</td>\n",
       "      <td>...</td>\n",
       "      <td>...</td>\n",
       "      <td>...</td>\n",
       "      <td>...</td>\n",
       "      <td>...</td>\n",
       "      <td>...</td>\n",
       "      <td>...</td>\n",
       "      <td>...</td>\n",
       "      <td>...</td>\n",
       "      <td>...</td>\n",
       "      <td>...</td>\n",
       "      <td>...</td>\n",
       "    </tr>\n",
       "    <tr>\n",
       "      <th>99995</th>\n",
       "      <td>0x25fe9</td>\n",
       "      <td>CUS_0x942c</td>\n",
       "      <td>April</td>\n",
       "      <td>Nicks</td>\n",
       "      <td>25</td>\n",
       "      <td>078-73-5990</td>\n",
       "      <td>Mechanic</td>\n",
       "      <td>39628.99</td>\n",
       "      <td>3359.415833</td>\n",
       "      <td>4</td>\n",
       "      <td>...</td>\n",
       "      <td>_</td>\n",
       "      <td>502.38</td>\n",
       "      <td>34.663572</td>\n",
       "      <td>31 Years and 6 Months</td>\n",
       "      <td>No</td>\n",
       "      <td>35.104023</td>\n",
       "      <td>60.97133255718485</td>\n",
       "      <td>High_spent_Large_value_payments</td>\n",
       "      <td>479.866228</td>\n",
       "      <td>Poor</td>\n",
       "    </tr>\n",
       "    <tr>\n",
       "      <th>99996</th>\n",
       "      <td>0x25fea</td>\n",
       "      <td>CUS_0x942c</td>\n",
       "      <td>May</td>\n",
       "      <td>Nicks</td>\n",
       "      <td>25</td>\n",
       "      <td>078-73-5990</td>\n",
       "      <td>Mechanic</td>\n",
       "      <td>39628.99</td>\n",
       "      <td>3359.415833</td>\n",
       "      <td>4</td>\n",
       "      <td>...</td>\n",
       "      <td>_</td>\n",
       "      <td>502.38</td>\n",
       "      <td>40.565631</td>\n",
       "      <td>31 Years and 7 Months</td>\n",
       "      <td>No</td>\n",
       "      <td>35.104023</td>\n",
       "      <td>54.18595028760385</td>\n",
       "      <td>High_spent_Medium_value_payments</td>\n",
       "      <td>496.65161</td>\n",
       "      <td>Poor</td>\n",
       "    </tr>\n",
       "    <tr>\n",
       "      <th>99997</th>\n",
       "      <td>0x25feb</td>\n",
       "      <td>CUS_0x942c</td>\n",
       "      <td>June</td>\n",
       "      <td>Nicks</td>\n",
       "      <td>25</td>\n",
       "      <td>078-73-5990</td>\n",
       "      <td>Mechanic</td>\n",
       "      <td>39628.99</td>\n",
       "      <td>3359.415833</td>\n",
       "      <td>4</td>\n",
       "      <td>...</td>\n",
       "      <td>Good</td>\n",
       "      <td>502.38</td>\n",
       "      <td>41.255522</td>\n",
       "      <td>31 Years and 8 Months</td>\n",
       "      <td>No</td>\n",
       "      <td>35.104023</td>\n",
       "      <td>24.02847744864441</td>\n",
       "      <td>High_spent_Large_value_payments</td>\n",
       "      <td>516.809083</td>\n",
       "      <td>Poor</td>\n",
       "    </tr>\n",
       "    <tr>\n",
       "      <th>99998</th>\n",
       "      <td>0x25fec</td>\n",
       "      <td>CUS_0x942c</td>\n",
       "      <td>July</td>\n",
       "      <td>Nicks</td>\n",
       "      <td>25</td>\n",
       "      <td>078-73-5990</td>\n",
       "      <td>Mechanic</td>\n",
       "      <td>39628.99</td>\n",
       "      <td>3359.415833</td>\n",
       "      <td>4</td>\n",
       "      <td>...</td>\n",
       "      <td>Good</td>\n",
       "      <td>502.38</td>\n",
       "      <td>33.638208</td>\n",
       "      <td>31 Years and 9 Months</td>\n",
       "      <td>No</td>\n",
       "      <td>35.104023</td>\n",
       "      <td>251.67258219721603</td>\n",
       "      <td>Low_spent_Large_value_payments</td>\n",
       "      <td>319.164979</td>\n",
       "      <td>Standard</td>\n",
       "    </tr>\n",
       "    <tr>\n",
       "      <th>99999</th>\n",
       "      <td>0x25fed</td>\n",
       "      <td>CUS_0x942c</td>\n",
       "      <td>August</td>\n",
       "      <td>Nicks</td>\n",
       "      <td>25</td>\n",
       "      <td>078-73-5990</td>\n",
       "      <td>Mechanic</td>\n",
       "      <td>39628.99_</td>\n",
       "      <td>3359.415833</td>\n",
       "      <td>4</td>\n",
       "      <td>...</td>\n",
       "      <td>Good</td>\n",
       "      <td>502.38</td>\n",
       "      <td>34.192463</td>\n",
       "      <td>31 Years and 10 Months</td>\n",
       "      <td>No</td>\n",
       "      <td>35.104023</td>\n",
       "      <td>167.1638651610451</td>\n",
       "      <td>!@9#%8</td>\n",
       "      <td>393.673696</td>\n",
       "      <td>Poor</td>\n",
       "    </tr>\n",
       "  </tbody>\n",
       "</table>\n",
       "<p>100000 rows × 28 columns</p>\n",
       "</div>"
      ],
      "text/plain": [
       "            ID Customer_ID     Month           Name   Age          SSN  \\\n",
       "0       0x1602   CUS_0xd40   January  Aaron Maashoh    23  821-00-0265   \n",
       "1       0x1603   CUS_0xd40  February  Aaron Maashoh    23  821-00-0265   \n",
       "2       0x1604   CUS_0xd40     March  Aaron Maashoh  -500  821-00-0265   \n",
       "3       0x1605   CUS_0xd40     April  Aaron Maashoh    23  821-00-0265   \n",
       "4       0x1606   CUS_0xd40       May  Aaron Maashoh    23  821-00-0265   \n",
       "...        ...         ...       ...            ...   ...          ...   \n",
       "99995  0x25fe9  CUS_0x942c     April          Nicks    25  078-73-5990   \n",
       "99996  0x25fea  CUS_0x942c       May          Nicks    25  078-73-5990   \n",
       "99997  0x25feb  CUS_0x942c      June          Nicks    25  078-73-5990   \n",
       "99998  0x25fec  CUS_0x942c      July          Nicks    25  078-73-5990   \n",
       "99999  0x25fed  CUS_0x942c    August          Nicks    25  078-73-5990   \n",
       "\n",
       "      Occupation Annual_Income  Monthly_Inhand_Salary  Num_Bank_Accounts  ...  \\\n",
       "0      Scientist      19114.12            1824.843333                  3  ...   \n",
       "1      Scientist      19114.12                    NaN                  3  ...   \n",
       "2      Scientist      19114.12                    NaN                  3  ...   \n",
       "3      Scientist      19114.12                    NaN                  3  ...   \n",
       "4      Scientist      19114.12            1824.843333                  3  ...   \n",
       "...          ...           ...                    ...                ...  ...   \n",
       "99995   Mechanic      39628.99            3359.415833                  4  ...   \n",
       "99996   Mechanic      39628.99            3359.415833                  4  ...   \n",
       "99997   Mechanic      39628.99            3359.415833                  4  ...   \n",
       "99998   Mechanic      39628.99            3359.415833                  4  ...   \n",
       "99999   Mechanic     39628.99_            3359.415833                  4  ...   \n",
       "\n",
       "       Credit_Mix  Outstanding_Debt Credit_Utilization_Ratio  \\\n",
       "0               _            809.98                26.822620   \n",
       "1            Good            809.98                31.944960   \n",
       "2            Good            809.98                28.609352   \n",
       "3            Good            809.98                31.377862   \n",
       "4            Good            809.98                24.797347   \n",
       "...           ...               ...                      ...   \n",
       "99995           _            502.38                34.663572   \n",
       "99996           _            502.38                40.565631   \n",
       "99997        Good            502.38                41.255522   \n",
       "99998        Good            502.38                33.638208   \n",
       "99999        Good            502.38                34.192463   \n",
       "\n",
       "           Credit_History_Age  Payment_of_Min_Amount Total_EMI_per_month  \\\n",
       "0       22 Years and 1 Months                     No           49.574949   \n",
       "1                         NaN                     No           49.574949   \n",
       "2       22 Years and 3 Months                     No           49.574949   \n",
       "3       22 Years and 4 Months                     No           49.574949   \n",
       "4       22 Years and 5 Months                     No           49.574949   \n",
       "...                       ...                    ...                 ...   \n",
       "99995   31 Years and 6 Months                     No           35.104023   \n",
       "99996   31 Years and 7 Months                     No           35.104023   \n",
       "99997   31 Years and 8 Months                     No           35.104023   \n",
       "99998   31 Years and 9 Months                     No           35.104023   \n",
       "99999  31 Years and 10 Months                     No           35.104023   \n",
       "\n",
       "      Amount_invested_monthly                 Payment_Behaviour  \\\n",
       "0           80.41529543900253   High_spent_Small_value_payments   \n",
       "1          118.28022162236736    Low_spent_Large_value_payments   \n",
       "2             81.699521264648   Low_spent_Medium_value_payments   \n",
       "3           199.4580743910713    Low_spent_Small_value_payments   \n",
       "4          41.420153086217326  High_spent_Medium_value_payments   \n",
       "...                       ...                               ...   \n",
       "99995       60.97133255718485   High_spent_Large_value_payments   \n",
       "99996       54.18595028760385  High_spent_Medium_value_payments   \n",
       "99997       24.02847744864441   High_spent_Large_value_payments   \n",
       "99998      251.67258219721603    Low_spent_Large_value_payments   \n",
       "99999       167.1638651610451                            !@9#%8   \n",
       "\n",
       "          Monthly_Balance Credit_Score  \n",
       "0      312.49408867943663         Good  \n",
       "1      284.62916249607184         Good  \n",
       "2       331.2098628537912         Good  \n",
       "3      223.45130972736786         Good  \n",
       "4      341.48923103222177         Good  \n",
       "...                   ...          ...  \n",
       "99995          479.866228         Poor  \n",
       "99996           496.65161         Poor  \n",
       "99997          516.809083         Poor  \n",
       "99998          319.164979     Standard  \n",
       "99999          393.673696         Poor  \n",
       "\n",
       "[100000 rows x 28 columns]"
      ]
     },
     "execution_count": 2,
     "metadata": {},
     "output_type": "execute_result"
    }
   ],
   "source": [
    "df = pd.read_csv(\"./Dataset/train.csv\")\n",
    "df"
   ]
  },
  {
   "cell_type": "code",
   "execution_count": 3,
   "id": "8794bbbe",
   "metadata": {},
   "outputs": [],
   "source": [
    "# 데이터 컬럼 네임 정리\n",
    "df = df.rename(columns={\"ID\": \"거래내역\",\n",
    "                   \"Customer_ID\": \"고객ID\",\n",
    "                   \"Month\": \"월\",\n",
    "                   \"Name\": \"이름\",\n",
    "                   \"Age\": \"나이\",\n",
    "                   \"SSN\": \"식별번호\",\n",
    "                   \"Occupation\": \"직업\",\n",
    "                   \"Annual_Income\": \"연수입\",\n",
    "                   \"Monthly_Inhand_Salary\": \"월급\",\n",
    "                   \"Num_Bank_Accounts\": \"계좌 수\",\n",
    "                   \"Num_Credit_Card\": \"신용카드 수\",\n",
    "                   \"Interest_Rate\": \"이자율\",\n",
    "                   \"Num_of_Loan\": \"대출수\",\n",
    "                   \"Type_of_Loan\": \"대출종류\",\n",
    "                   \"Delay_from_due_date\": \"연체일수\",\n",
    "                   \"Num_of_Delayed_Payment\": \"연체 지불횟수\",\n",
    "                   \"Changed_Credit_Limit\": \"카드 한도 변경\",\n",
    "                   \"Num_Credit_Inquiries\": \"신용카드 조회 횟수\",\n",
    "                   \"Credit_Mix\": \"신용예측 정도\",\n",
    "                   \"Outstanding_Debt\": \"남아있는 부채\",\n",
    "                   \"Credit_Utilization_Ratio\": \"신용카드 이용률 비율\",\n",
    "                   \"Credit_History_Age\": \"계좌개설 나이\", # 부모님의 금융에 대한 관삼을 유추할 수 있음\n",
    "                   \"Payment_of_Min_Amount\": \"최소금액 지불 여부\",\n",
    "                   \"Total_EMI_per_month\": \"월별 할부 지불액\",\n",
    "                   \"Amount_invested_monthly\": \"월별 투자금액\",\n",
    "                   \"Payment_Behaviour\": \"고객의 소비패턴\",\n",
    "                   \"Monthly_Balance\": \"월별 고객 잔액\",\n",
    "                   \"Credit_Score\": \"신용점수\",\n",
    "                   })"
   ]
  },
  {
   "cell_type": "code",
   "execution_count": 4,
   "id": "87c4c9f8",
   "metadata": {},
   "outputs": [],
   "source": [
    "def month_to_number(month):\n",
    "    month_dict = {\n",
    "        'January': 1, 'February': 2, 'March': 3, 'April': 4,\n",
    "        'May': 5, 'June': 6, 'July': 7, 'August': 8,\n",
    "        'September': 9, 'October': 10, 'November': 11, 'December': 12\n",
    "    }\n",
    "    return month_dict[month]\n",
    "\n",
    "df['월'] = df['월'].apply(month_to_number)"
   ]
  },
  {
   "cell_type": "markdown",
   "id": "7c643836",
   "metadata": {},
   "source": [
    "# 나이\n",
    "- 특정 나이(57세) 이상부터 value_counts()확인 결과 분포가 이상치로 확인\n",
    "- 57세 이상 -1로 변환 후 해당 값을 고객ID별 최빈값으로 변환\n",
    "- 최빈값 이유 : 1~8개월에 따라 나이의 변동이 지극히 작기 때문"
   ]
  },
  {
   "cell_type": "code",
   "execution_count": 5,
   "id": "040e91b1",
   "metadata": {},
   "outputs": [
    {
     "data": {
      "text/plain": [
       "Index(['거래내역', '고객ID', '월', '이름', '나이', '식별번호', '직업', '연수입', '월급', '계좌 수',\n",
       "       '신용카드 수', '이자율', '대출수', '대출종류', '연체일수', '연체 지불횟수', '카드 한도 변경',\n",
       "       '신용카드 조회 횟수', '신용예측 정도', '남아있는 부채', '신용카드 이용률 비율', '계좌개설 나이',\n",
       "       '최소금액 지불 여부', '월별 할부 지불액', '월별 투자금액', '고객의 소비패턴', '월별 고객 잔액', '신용점수'],\n",
       "      dtype='object')"
      ]
     },
     "execution_count": 5,
     "metadata": {},
     "output_type": "execute_result"
    }
   ],
   "source": [
    "df.columns"
   ]
  },
  {
   "cell_type": "code",
   "execution_count": 6,
   "id": "bcda3caa",
   "metadata": {},
   "outputs": [],
   "source": [
    "df['나이'] = df['나이'].str.replace(\"_\", \"\")\n",
    "df['나이'] = df['나이'].astype('int')\n",
    "df.loc[df['나이']>=57, \"나이\"] = -1\n",
    "df.loc[df['나이']<0, \"나이\"] = -1"
   ]
  },
  {
   "cell_type": "code",
   "execution_count": 7,
   "id": "05d84023",
   "metadata": {},
   "outputs": [],
   "source": [
    "list_id = df['고객ID'].unique()\n",
    "\n",
    "for id in list_id:\n",
    "    index_list = df[(df['고객ID']==id) & (df['나이'] == -1)].index\n",
    "    df.loc[index_list, \"나이\"] = statistics.mode(df[(df[\"고객ID\"]==id) & (df['나이']!=-1)]['나이'])"
   ]
  },
  {
   "cell_type": "markdown",
   "id": "24729221",
   "metadata": {},
   "source": [
    "# 연체 지불횟수 전처리\n",
    "- \"_\"문자열 삭제\n",
    "- Nan값 -1으로 대체\n",
    "- int형태로 변환 후 고객ID별로 -1로 채운 Nan값을 최빈값으로 대체"
   ]
  },
  {
   "cell_type": "code",
   "execution_count": 10,
   "id": "0170c9df",
   "metadata": {},
   "outputs": [],
   "source": [
    "df['연체 지불횟수'] = df['연체 지불횟수'].str.replace(\"_\", \"\")\n",
    "df['연체 지불횟수'] = df['연체 지불횟수'].fillna(-1)\n",
    "df['연체 지불횟수'] = df['연체 지불횟수'].astype('int')\n",
    "df.loc[df['연체 지불횟수']>25, '연체 지불횟수'] = -1"
   ]
  },
  {
   "cell_type": "code",
   "execution_count": 11,
   "id": "29c2aa7c",
   "metadata": {},
   "outputs": [],
   "source": [
    "list_id = df['고객ID'].unique()\n",
    "\n",
    "for id in list_id:\n",
    "    try:\n",
    "        index_list = df[(df['고객ID']==id) & (df['연체 지불횟수'] == -1)].index\n",
    "        df.loc[index_list, \"연체 지불횟수\"] = statistics.mode(df[(df[\"고객ID\"]==id) & (df['연체 지불횟수']!=-1)]['연체 지불횟수'])\n",
    "    except:\n",
    "        df.loc[index_list, \"연체 지불횟수\"] = 0"
   ]
  },
  {
   "cell_type": "markdown",
   "id": "094fb7bb",
   "metadata": {},
   "source": [
    "# 카드 한도 변경\n",
    "- \"_\"특수문자 제거\n",
    "- 숫자가 아닌 데이터 NaN값으로 대체\n",
    "- 빈값을 -1로 대체\n",
    "- 데이터 타입을 float으로 변경\n",
    "- -1값을 고객ID별로 "
   ]
  },
  {
   "cell_type": "code",
   "execution_count": 12,
   "id": "8398dcbc",
   "metadata": {},
   "outputs": [],
   "source": [
    "df['카드 한도 변경'] = df['카드 한도 변경'].str.replace(\"_\", \"\")\n",
    "df['카드 한도 변경'] = pd.to_numeric(df['카드 한도 변경'], errors='coerce')\n",
    "df['카드 한도 변경'] = df['카드 한도 변경'].fillna(-1)\n",
    "df['카드 한도 변경'] = df['카드 한도 변경'].astype(\"float\")"
   ]
  },
  {
   "cell_type": "code",
   "execution_count": 13,
   "id": "5a2f8311",
   "metadata": {},
   "outputs": [],
   "source": [
    "for id in list_id:\n",
    "    index_list = df[(df['고객ID']==id) & (df['카드 한도 변경'] == -1)].index\n",
    "    df.loc[index_list, \"카드 한도 변경\"] = np.average(df[(df[\"고객ID\"]==id) & (df['카드 한도 변경']!=-1)]['카드 한도 변경'])"
   ]
  },
  {
   "cell_type": "markdown",
   "id": "08252fd7",
   "metadata": {},
   "source": [
    "# 월별 투자금액\n",
    "- '_' 지우고, float 타입 변환\n",
    "- 월별 투자금액이 10000인 값 -> 결측치로 둠"
   ]
  },
  {
   "cell_type": "code",
   "execution_count": 14,
   "id": "fd2db408",
   "metadata": {},
   "outputs": [],
   "source": [
    "df['월별 투자금액'] = df['월별 투자금액'].str.replace('_', '')\n",
    "df['월별 투자금액'] = df['월별 투자금액'].astype('float')\n",
    "\n",
    "df['월별 투자금액'] = np.where(df['월별 투자금액'] == 10000, np.nan, df['월별 투자금액'])\n",
    "\n",
    "df['월별 투자금액'] = df['월별 투자금액'].fillna(df.groupby(['고객ID'])['월별 투자금액'].transform('median'))"
   ]
  },
  {
   "cell_type": "markdown",
   "id": "351cc161",
   "metadata": {},
   "source": [
    "# 남아있는 부채 전처리"
   ]
  },
  {
   "cell_type": "code",
   "execution_count": 15,
   "id": "acfb9526",
   "metadata": {},
   "outputs": [],
   "source": [
    "df['남아있는 부채'] = df['남아있는 부채'].str.replace('_', '')\n",
    "df['남아있는 부채'] = df['남아있는 부채'].astype('float')"
   ]
  },
  {
   "cell_type": "markdown",
   "id": "5886dbbc",
   "metadata": {},
   "source": [
    "# 신용카드 조회 횟수\n",
    "- 신용카드 조회 횟수 20이상의 경우 각 값의 수치가 낮고, 이상치로 판단\n",
    "- 20회 이상의 신용카드 조회 횟수를 -1로 변경\n",
    "- 이후 고객ID별로 -1 즉 이상치 데이터를 최빈값으로 변경"
   ]
  },
  {
   "cell_type": "code",
   "execution_count": 16,
   "id": "ecc45ffd",
   "metadata": {},
   "outputs": [],
   "source": [
    "df.loc[df['신용카드 조회 횟수'] >= 20, '신용카드 조회 횟수'] = -1\n",
    "df['신용카드 조회 횟수'] = df[\"신용카드 조회 횟수\"].fillna(-1)\n",
    "\n",
    "for id in list_id:\n",
    "    index_list = df[(df['고객ID']==id) & (df['신용카드 조회 횟수'] == -1)].index\n",
    "    df.loc[index_list, \"신용카드 조회 횟수\"] = statistics.mode(df[(df[\"고객ID\"]==id) & (df['신용카드 조회 횟수']!=-1)]['신용카드 조회 횟수'])"
   ]
  },
  {
   "cell_type": "markdown",
   "id": "c9904722",
   "metadata": {},
   "source": [
    "# 신용예측 정도\n",
    "- 고객ID별 탐색 결과 모든 신용예측 정도가 \"_\" 결측값으로 입력된 경우는 없음\n",
    "- 결측값을 -1로 변경 후 해당 고객ID별 최빈값을 입력"
   ]
  },
  {
   "cell_type": "code",
   "execution_count": 17,
   "id": "89d48d78",
   "metadata": {},
   "outputs": [],
   "source": [
    "df.loc[df['신용예측 정도']==\"_\", \"신용예측 정도\"] = -1\n",
    "df['신용예측 정도'] = df['신용예측 정도'].fillna(-1)\n",
    "\n",
    "for id in list_id:\n",
    "    index_list = df[(df['고객ID']==id) & (df['신용예측 정도'] == -1)].index\n",
    "    df.loc[index_list, \"신용예측 정도\"] = statistics.mode(df[(df[\"고객ID\"]==id) & (df['신용예측 정도']!=-1)]['신용예측 정도'])"
   ]
  },
  {
   "cell_type": "markdown",
   "id": "8d4dc912",
   "metadata": {},
   "source": [
    "# 고객의 소비패턴\n",
    "- 결측치 없음\n",
    "- 고객의 소비패턴이 '!@9#%8'인 값 존재 -> 고객ID별로 소비패턴 최빈값으로 대체"
   ]
  },
  {
   "cell_type": "code",
   "execution_count": 18,
   "id": "290aed81",
   "metadata": {},
   "outputs": [],
   "source": [
    "idx_list = df[df['고객의 소비패턴'] == '!@9#%8'].index\n",
    "\n",
    "for idx in idx_list:\n",
    "  id = df.loc[idx, '고객ID']\n",
    "  df.loc[idx, '고객의 소비패턴'] = statistics.mode(df[(df['고객ID']==id) & (df['고객의 소비패턴']!= '!@9#%8')]['고객의 소비패턴'])"
   ]
  },
  {
   "cell_type": "markdown",
   "id": "cad6f6f1",
   "metadata": {},
   "source": [
    "# 계좌 수 전처리\n",
    "- 결측치 처리\n",
    "- 10개 초과 개수, 음수는 이상치로 처리\n",
    "- 고객 ID별로 nan값은 중앙값으로 대체"
   ]
  },
  {
   "cell_type": "code",
   "execution_count": 19,
   "id": "7bcd798c",
   "metadata": {},
   "outputs": [],
   "source": [
    "df['계좌 수'] = np.where(df['계좌 수'] > 10, np.nan,df['계좌 수'])\n",
    "df['계좌 수'] = np.where(df['계좌 수'] < 0, np.nan,df['계좌 수'])\n",
    "df['계좌 수'] = df['계좌 수'].fillna(df.groupby(['고객ID'])['계좌 수'].transform('median')) # 계좌가 없는데 신용카드 존재"
   ]
  },
  {
   "cell_type": "markdown",
   "id": "3cf44552",
   "metadata": {},
   "source": [
    "# 신용카드 수 전처리\n",
    "- 결측치 처리\n",
    "- 10개 초과 개수, 음수는 이상치로 처리\n",
    "- 고객 ID별로 nan값은 중앙값으로 대체"
   ]
  },
  {
   "cell_type": "code",
   "execution_count": 20,
   "id": "0a205c84",
   "metadata": {},
   "outputs": [],
   "source": [
    "df['신용카드 수'] = np.where(df['신용카드 수'] > 10, np.nan,df['신용카드 수'])\n",
    "df['신용카드 수'] = np.where(df['신용카드 수'] < 0, np.nan,df['신용카드 수'])\n",
    "df['신용카드 수'] = df['신용카드 수'].fillna(df.groupby(['고객ID'])['신용카드 수'].transform('median'))"
   ]
  },
  {
   "cell_type": "markdown",
   "id": "57aa80f8",
   "metadata": {},
   "source": [
    "# 최소금액 지불 여부 전처리\n",
    "- '최소금액 지불 여부' 값이 'NM'인 경우, 각 고객ID 그룹 내에서 가장 빈도가 높은 값으로 대체\n",
    "- YES를 1 NO를 0으로 변환+ 타입을 int로 바꾸기"
   ]
  },
  {
   "cell_type": "code",
   "execution_count": 21,
   "id": "d9f863c3",
   "metadata": {},
   "outputs": [],
   "source": [
    "def replace_nm_with_mode(group):\n",
    "    nm_mask = group == 'NM'\n",
    "    mode_value = group[~nm_mask].mode().iloc[0] if not group[~nm_mask].empty else 'NM'\n",
    "    group[nm_mask] = mode_value\n",
    "    return group\n",
    "\n",
    "df['최소금액 지불 여부'] = df.groupby('고객ID')['최소금액 지불 여부'].transform(replace_nm_with_mode)\n",
    "df['최소금액 지불 여부'] = np.where(df['최소금액 지불 여부'] == 'Yes', 1, 0)\n",
    "df['최소금액 지불 여부'] = df['최소금액 지불 여부'].astype('int')"
   ]
  },
  {
   "cell_type": "markdown",
   "id": "316dfd3b",
   "metadata": {},
   "source": [
    "# 대출수 전처리\n",
    "- '_' 문자열 삭제\n",
    "- int 형태로 변환\n",
    "- 음수 값을 최빈값으로 바꾸는 함수 정의\n",
    "- '대출수' 컬럼의 음수 값을 최빈값으로 바꾸기\n",
    "- 10 이상인 값을 최빈값으로 바꾸는 함수\n",
    "- '대출수' 컬럼의 10 이상인 값을 최빈값으로 바꾸기"
   ]
  },
  {
   "cell_type": "code",
   "execution_count": 22,
   "id": "8a48b6c4",
   "metadata": {},
   "outputs": [],
   "source": [
    "df['대출수'] = df['대출수'].str.replace('_', '')\n",
    "df['대출수'] = df['대출수'].astype(int)\n",
    "\n",
    "def replace_1(series):\n",
    "    mode_value = series.mode().iloc[0]\n",
    "    return series.apply(lambda x: mode_value if x < 0 else x)\n",
    "\n",
    "df['대출수'] = df.groupby('고객ID')['대출수'].transform(replace_1)\n",
    "\n",
    "def replace_2(series):\n",
    "    mode_value = series.mode().iloc[0]\n",
    "    return series.apply(lambda x: mode_value if x > 10 else x)\n",
    "\n",
    "df['대출수'] = df.groupby('고객ID')['대출수'].transform(replace_2)"
   ]
  },
  {
   "cell_type": "markdown",
   "id": "ec6ffaaa",
   "metadata": {},
   "source": [
    "# 월별 할부 지불액\n",
    "- 결측치 없음\n",
    "- 10000 이상인 값 2806개 존재 -> 극단적인 이상치로 봄\n",
    "- 10000 이상인 값 -> 고객ID별 중앙값으로 대체"
   ]
  },
  {
   "cell_type": "code",
   "execution_count": 23,
   "id": "60f9f2e3",
   "metadata": {},
   "outputs": [],
   "source": [
    "idx = df[df['월별 할부 지불액'] >= 10000].index\n",
    "df.loc[df[df['월별 할부 지불액'] >= 10000].index, '월별 할부 지불액'] = np.NaN\n",
    "df['월별 할부 지불액'] = df['월별 할부 지불액'].fillna(df.groupby(['고객ID'])['월별 할부 지불액'].transform('median'))"
   ]
  },
  {
   "cell_type": "markdown",
   "id": "259a6e32",
   "metadata": {},
   "source": [
    "# 월별 고객 잔액\n",
    "- 월별 고객 잔액이 '__-333333333333333333333333333__' 인 값 -> 결측치로 둠\n",
    "- float 타입 변환\n",
    "- 결측치 처리 -> 고객ID 별 월별 고객 잔액의 중앙값으로 대체"
   ]
  },
  {
   "cell_type": "code",
   "execution_count": 24,
   "id": "5ffee6b9",
   "metadata": {},
   "outputs": [],
   "source": [
    "df['월별 고객 잔액'] = np.where(df['월별 고객 잔액'] == '__-333333333333333333333333333__', np.nan, df['월별 고객 잔액'])\n",
    "df['월별 고객 잔액'] = df['월별 고객 잔액'].astype('float')\n",
    "df['월별 고객 잔액'] = df['월별 고객 잔액'].fillna(df.groupby(['고객ID'])['월별 고객 잔액'].transform('median'))"
   ]
  },
  {
   "cell_type": "markdown",
   "id": "84202ced",
   "metadata": {},
   "source": [
    "# 이자율\n",
    "- 이자율 이상치를 최빈값으로 바꾸기\n",
    "- 이자율' 컬럼의 이상치를 최빈값으로 바꾸기"
   ]
  },
  {
   "cell_type": "code",
   "execution_count": 25,
   "id": "b6079883",
   "metadata": {},
   "outputs": [],
   "source": [
    "def replace_interest(series):\n",
    "    mode_value = series.mode().iloc[0]\n",
    "    return series.apply(lambda x: mode_value if x > 34 else x)\n",
    "\n",
    "df['이자율'] = df.groupby('고객ID')['이자율'].transform(replace_interest)"
   ]
  },
  {
   "cell_type": "markdown",
   "id": "823dd435",
   "metadata": {},
   "source": [
    "# 연체일수\n",
    "- 연체일수 음수를 0으로 변경"
   ]
  },
  {
   "cell_type": "code",
   "execution_count": 26,
   "id": "dc131e48",
   "metadata": {},
   "outputs": [],
   "source": [
    "df['연체일수'] = np.where(df['연체일수'] < 0, 0, df['연체일수'])"
   ]
  },
  {
   "cell_type": "markdown",
   "id": "8e423abc",
   "metadata": {},
   "source": [
    "# 대출 종류\n",
    "- 대출종류 컬럼 값에서 'and'와 공백 제거\n",
    "- 대출종류 고유리스트 생성\n",
    "- 대출수가 0인 대출 종류를 None으로 변경\n",
    "- name_list를 각각 열에 추가하고, 각 대출종류별 등장 횟수를 업데이트"
   ]
  },
  {
   "cell_type": "code",
   "execution_count": 27,
   "id": "32366a01",
   "metadata": {},
   "outputs": [],
   "source": [
    "df['대출종류'] = np.where(df['대출수'] == 0, 'None', df['대출종류'])\n",
    "\n",
    "df['대출종류'] = df['대출종류'].str.replace('and', '').str.replace(' ', '')\n",
    "\n",
    "name_list = []\n",
    "test_list = list(df['대출종류'].unique())\n",
    "for word in test_list:\n",
    "    list_name = word.split(\",\")\n",
    "    for name in list_name:\n",
    "        if name not in name_list:\n",
    "            name_list.append(name)\n",
    "\n",
    "for name in name_list:\n",
    "    df[name] = 0\n",
    "for idx, row in df.iterrows():\n",
    "    types = row['대출종류'].split(',')\n",
    "    for t in types:\n",
    "        df.at[idx, t] += 1"
   ]
  },
  {
   "cell_type": "markdown",
   "id": "813c610c",
   "metadata": {},
   "source": [
    "# 월급 \n",
    "- Nan값을 근접한 값으로 대체"
   ]
  },
  {
   "cell_type": "code",
   "execution_count": 28,
   "id": "41096e0a",
   "metadata": {},
   "outputs": [],
   "source": [
    "df['월급'] = df.groupby('고객ID')['월급'].fillna(method='bfill')\n",
    "df['월급'] = df.groupby('고객ID')['월급'].fillna(method='ffill')"
   ]
  },
  {
   "cell_type": "markdown",
   "id": "5645cdd1",
   "metadata": {},
   "source": [
    "# 연수입"
   ]
  },
  {
   "cell_type": "code",
   "execution_count": 29,
   "id": "80dfa101",
   "metadata": {},
   "outputs": [],
   "source": [
    "# 연수입 전처리\n",
    "#\"_\"문자열 제거하기\n",
    "# 비어있는 NaN값을 해당 하는 고객ID에서 최빈값으로 바꾸기\n",
    "# float형으로 변경\n",
    "# # 고객 ID별로 연수입이 같아야 하는데 다르게 나오는 이상치 구해서 최빈값으로 바꾸기"
   ]
  },
  {
   "cell_type": "code",
   "execution_count": 30,
   "id": "977e3d5f",
   "metadata": {},
   "outputs": [],
   "source": [
    "from statistics import mode\n",
    "\n",
    "df['연수입']=df['연수입'].str.replace(\"_\",\"\")\n",
    "df['연수입']=df['연수입'].astype('float')\n",
    "df['연수입'] = df['연수입'].fillna(df.groupby(['고객ID'])['연수입'].transform('median'))\n",
    "result_df = df.groupby('고객ID')['연수입'].agg(최빈값=pd.Series.mode, 평균값='mean').reset_index()\n",
    "result_df['최종값'] = result_df.apply(lambda row: row['최빈값'] if row['최빈값'] == row['평균값'] else row['최빈값'], axis=1)\n",
    "df['연수입'] = df.groupby('고객ID')['연수입'].transform(lambda group: mode(group))"
   ]
  },
  {
   "cell_type": "markdown",
   "id": "ffc0cc1e",
   "metadata": {},
   "source": [
    "# 직업\n",
    "- \"_\" 고객 ID별 최빈값으로 변경"
   ]
  },
  {
   "cell_type": "code",
   "execution_count": 31,
   "id": "66aebaa2",
   "metadata": {},
   "outputs": [],
   "source": [
    "idx_list = df[df['직업'] == '_______'].index\n",
    "for idx in idx_list:\n",
    "  id = df.loc[idx, '고객ID']\n",
    "  df.loc[idx, '직업'] = statistics.mode(df[(df['고객ID']==id) & (df['직업']!= '_______')]['직업'])"
   ]
  },
  {
   "cell_type": "markdown",
   "id": "5649881b",
   "metadata": {},
   "source": [
    "# 월별 할부 지불액\n",
    "- 소수점 뒷자리가 000... 이면 이상치\n",
    "- 소수점 뒷자리 추출\n",
    "- 소수점 뒷자리가 000... 이면 결측치로 변환\n",
    "- 0.1 -> 0\n",
    "- 고객ID별로 앞에 있는 값으로 대체\n",
    "- 위에서 결측치 대체 안 된 행은 고객ID별로 뒤에 있는 값으로 대체\n",
    "- 0 -> 0.1"
   ]
  },
  {
   "cell_type": "code",
   "execution_count": 32,
   "id": "e2b4c14d",
   "metadata": {},
   "outputs": [],
   "source": [
    "df['월별 할부 지불액'] = np.where(df['월별 할부 지불액'] == 0, df['월별 할부 지불액'] + 0.1, df['월별 할부 지불액'])\n",
    "df['월별 할부 지불액 소수부분'] = df['월별 할부 지불액'].astype('str').str.split('.').str[1]\n",
    "df['월별 할부 지불액'] = np.where(df['월별 할부 지불액 소수부분'] == '0', np.nan, df['월별 할부 지불액'])\n",
    "df['월별 할부 지불액'] = np.where(df['월별 할부 지불액'] == 0.1, 0, df['월별 할부 지불액'])\n",
    "df['월별 할부 지불액'] = df.groupby('고객ID')['월별 할부 지불액'].fillna(method = 'ffill')\n",
    "df['월별 할부 지불액'] = df.groupby('고객ID')['월별 할부 지불액'].fillna(method = 'bfill')\n",
    "df.drop(columns = ['월별 할부 지불액 소수부분'], inplace = True)"
   ]
  },
  {
   "cell_type": "markdown",
   "id": "840a8c4e",
   "metadata": {},
   "source": [
    "# 카드 발급 날짜 이후"
   ]
  },
  {
   "cell_type": "code",
   "execution_count": 33,
   "id": "85d7a99a",
   "metadata": {},
   "outputs": [],
   "source": [
    "def age_to_months(age_str):\n",
    "    if pd.isnull(age_str) or age_str == 'NM':\n",
    "        return None\n",
    "    years, months = age_str.split(' Years and ')\n",
    "    months = months.split(' Months')[0]\n",
    "    total_months = int(years) * 12 + int(months)\n",
    "    return total_months\n",
    "\n",
    "# 'Credit_History_Age' 컬럼 값을 숫자로 변환하여 새로운 컬럼 'Months'에 저장\n",
    "df['계좌개설 나이'] = df['계좌개설 나이'].apply(age_to_months)\n",
    "# DataFrame에서 '신용카드 발급 이후 날짜' 컬럼에 대해 보간, 뒤채우기, 앞채우기 수행\n",
    "df['계좌개설 나이'] = df.groupby('고객ID')['계좌개설 나이'].apply(lambda x: x.interpolate().bfill().ffill())\n",
    "# DataFrame을 '고객ID'로 그룹화하여 8개씩 묶기\n",
    "grouped = df.groupby('고객ID')\n",
    "# 중복된 값이 나오면 뒤에 나오는 값이 +1이 되도록 처리하는 함수 정의\n",
    "def adjust_duplicates(group):\n",
    "    diff = group.diff()\n",
    "    return group + (diff == 0).cumsum()\n",
    "# '신용카드 발급 이후 날짜' 컬럼에 대해 중복 조정 적용\n",
    "df['계좌개설 나이'] = grouped['계좌개설 나이'].apply(adjust_duplicates)\n",
    "# DataFrame의 인덱스 재설정\n",
    "df.reset_index(drop=True, inplace=True)"
   ]
  },
  {
   "cell_type": "code",
   "execution_count": 38,
   "id": "c8bfe5f4",
   "metadata": {},
   "outputs": [],
   "source": [
    "df.drop(columns=['거래내역', '이름', '식별번호', '대출종류'], inplace=True)"
   ]
  },
  {
   "cell_type": "code",
   "execution_count": 47,
   "id": "47da2c4c",
   "metadata": {},
   "outputs": [
    {
     "name": "stdout",
     "output_type": "stream",
     "text": [
      "<class 'pandas.core.frame.DataFrame'>\n",
      "RangeIndex: 100000 entries, 0 to 99999\n",
      "Data columns (total 34 columns):\n",
      " #   Column                 Non-Null Count   Dtype  \n",
      "---  ------                 --------------   -----  \n",
      " 0   고객ID                   100000 non-null  object \n",
      " 1   월                      100000 non-null  int64  \n",
      " 2   나이                     100000 non-null  int32  \n",
      " 3   직업                     100000 non-null  object \n",
      " 4   연수입                    100000 non-null  float64\n",
      " 5   월급                     100000 non-null  float64\n",
      " 6   계좌 수                   100000 non-null  float64\n",
      " 7   신용카드 수                 100000 non-null  float64\n",
      " 8   이자율                    100000 non-null  int64  \n",
      " 9   대출수                    100000 non-null  int64  \n",
      " 10  연체일수                   100000 non-null  int64  \n",
      " 11  연체 지불횟수                100000 non-null  int32  \n",
      " 12  카드 한도 변경               100000 non-null  float64\n",
      " 13  신용카드 조회 횟수             100000 non-null  float64\n",
      " 14  신용예측 정도                100000 non-null  object \n",
      " 15  남아있는 부채                100000 non-null  float64\n",
      " 16  신용카드 이용률 비율            100000 non-null  float64\n",
      " 17  계좌개설 나이                100000 non-null  float64\n",
      " 18  최소금액 지불 여부             100000 non-null  int32  \n",
      " 19  월별 할부 지불액              100000 non-null  float64\n",
      " 20  월별 투자금액                100000 non-null  float64\n",
      " 21  고객의 소비패턴               100000 non-null  object \n",
      " 22  월별 고객 잔액               100000 non-null  float64\n",
      " 23  신용점수                   100000 non-null  object \n",
      " 24  AutoLoan               100000 non-null  int64  \n",
      " 25  Credit-BuilderLoan     100000 non-null  int64  \n",
      " 26  PersonalLoan           100000 non-null  int64  \n",
      " 27  HomeEquityLoan         100000 non-null  int64  \n",
      " 28  NotSpecified           100000 non-null  int64  \n",
      " 29  None                   100000 non-null  int64  \n",
      " 30  MortgageLoan           100000 non-null  int64  \n",
      " 31  StudentLoan            100000 non-null  int64  \n",
      " 32  DebtConsolidationLoan  100000 non-null  int64  \n",
      " 33  PaydayLoan             100000 non-null  int64  \n",
      "dtypes: float64(12), int32(3), int64(14), object(5)\n",
      "memory usage: 24.8+ MB\n"
     ]
    }
   ],
   "source": [
    "df.info()"
   ]
  },
  {
   "cell_type": "code",
   "execution_count": 48,
   "id": "20405399",
   "metadata": {},
   "outputs": [],
   "source": [
    "le = LabelEncoder()\n",
    "\n",
    "df['직업'] = le.fit_transform(df['직업'])\n",
    "df['신용예측 정도'] = le.fit_transform(df['신용예측 정도'])\n",
    "df['고객의 소비패턴'] = le.fit_transform(df['고객의 소비패턴'])"
   ]
  },
  {
   "cell_type": "code",
   "execution_count": 49,
   "id": "5d978978",
   "metadata": {},
   "outputs": [
    {
     "name": "stdout",
     "output_type": "stream",
     "text": [
      "<class 'pandas.core.frame.DataFrame'>\n",
      "RangeIndex: 100000 entries, 0 to 99999\n",
      "Data columns (total 34 columns):\n",
      " #   Column                 Non-Null Count   Dtype  \n",
      "---  ------                 --------------   -----  \n",
      " 0   고객ID                   100000 non-null  object \n",
      " 1   월                      100000 non-null  int64  \n",
      " 2   나이                     100000 non-null  int32  \n",
      " 3   직업                     100000 non-null  int32  \n",
      " 4   연수입                    100000 non-null  float64\n",
      " 5   월급                     100000 non-null  float64\n",
      " 6   계좌 수                   100000 non-null  float64\n",
      " 7   신용카드 수                 100000 non-null  float64\n",
      " 8   이자율                    100000 non-null  int64  \n",
      " 9   대출수                    100000 non-null  int64  \n",
      " 10  연체일수                   100000 non-null  int64  \n",
      " 11  연체 지불횟수                100000 non-null  int32  \n",
      " 12  카드 한도 변경               100000 non-null  float64\n",
      " 13  신용카드 조회 횟수             100000 non-null  float64\n",
      " 14  신용예측 정도                100000 non-null  int32  \n",
      " 15  남아있는 부채                100000 non-null  float64\n",
      " 16  신용카드 이용률 비율            100000 non-null  float64\n",
      " 17  계좌개설 나이                100000 non-null  float64\n",
      " 18  최소금액 지불 여부             100000 non-null  int32  \n",
      " 19  월별 할부 지불액              100000 non-null  float64\n",
      " 20  월별 투자금액                100000 non-null  float64\n",
      " 21  고객의 소비패턴               100000 non-null  int32  \n",
      " 22  월별 고객 잔액               100000 non-null  float64\n",
      " 23  신용점수                   100000 non-null  object \n",
      " 24  AutoLoan               100000 non-null  int64  \n",
      " 25  Credit-BuilderLoan     100000 non-null  int64  \n",
      " 26  PersonalLoan           100000 non-null  int64  \n",
      " 27  HomeEquityLoan         100000 non-null  int64  \n",
      " 28  NotSpecified           100000 non-null  int64  \n",
      " 29  None                   100000 non-null  int64  \n",
      " 30  MortgageLoan           100000 non-null  int64  \n",
      " 31  StudentLoan            100000 non-null  int64  \n",
      " 32  DebtConsolidationLoan  100000 non-null  int64  \n",
      " 33  PaydayLoan             100000 non-null  int64  \n",
      "dtypes: float64(12), int32(6), int64(14), object(2)\n",
      "memory usage: 23.7+ MB\n"
     ]
    }
   ],
   "source": [
    "df.info()"
   ]
  },
  {
   "cell_type": "code",
   "execution_count": 50,
   "id": "a0cd1068",
   "metadata": {},
   "outputs": [],
   "source": [
    "df.to_csv(\"./Dataset/train_preprocessing.csv\")"
   ]
  },
  {
   "cell_type": "code",
   "execution_count": 2,
   "id": "ce53f28f",
   "metadata": {},
   "outputs": [],
   "source": [
    "df = pd.read_csv('./Dataset/train_preprocessing.csv')\n",
    "df.drop(columns='Unnamed: 0', inplace=True)"
   ]
  },
  {
   "cell_type": "code",
   "execution_count": 3,
   "id": "d0f283f6",
   "metadata": {},
   "outputs": [],
   "source": [
    "df['소비금액'] = df['월급'] - df['월별 할부 지불액'] - df['월별 투자금액'] - df['월별 고객 잔액']\n",
    "df['이자금액'] = df['남아있는 부채'] * (df['이자율']/100)\n",
    "df['연체기간'] = df['연체일수'] * df['대출수']\n",
    "df['부채 대 소득 비율'] = df['남아있는 부채'] / df['월급']"
   ]
  },
  {
   "cell_type": "code",
   "execution_count": 4,
   "id": "94b3e960",
   "metadata": {},
   "outputs": [
    {
     "data": {
      "text/plain": [
       "30대    29085\n",
       "20대    28826\n",
       "40대    22383\n",
       "10대    11177\n",
       "50대     8529\n",
       "Name: 연령대, dtype: int64"
      ]
     },
     "execution_count": 4,
     "metadata": {},
     "output_type": "execute_result"
    }
   ],
   "source": [
    "def get_age_group(age):\n",
    "    if age < 20:\n",
    "        return '10대'\n",
    "    elif age < 30:\n",
    "        return '20대'\n",
    "    elif age < 40:\n",
    "        return '30대'\n",
    "    elif age < 50:\n",
    "        return '40대'\n",
    "    else:\n",
    "        return '50대'\n",
    "# '연령대' 열 추가\n",
    "df['연령대'] = df['나이'].apply(get_age_group)\n",
    "df['연령대'].value_counts()"
   ]
  },
  {
   "cell_type": "code",
   "execution_count": 31,
   "id": "4d1e3fce",
   "metadata": {},
   "outputs": [],
   "source": [
    "from sklearn.cluster import KMeans\n",
    "\n",
    "kmeans = KMeans(n_clusters=5, random_state=13)\n",
    "clusters = kmeans.fit(df[['남아있는 부채', '이자율', '신용예측 정도', '계좌개설 나이', '연체일수', '카드 한도 변경']])\n",
    "\n",
    "\n",
    "df['cluster'] = clusters.labels_"
   ]
  },
  {
   "cell_type": "code",
   "execution_count": 40,
   "id": "838f99e6",
   "metadata": {},
   "outputs": [],
   "source": [
    "df.rename(columns={'연체일수': '평균 연체일수', '연체 지불횟수': '평균 연체횟수', '이자율': '신용카드 이자율', '월별 고객 잔액': '월 계좌 잔액'}, inplace=True)"
   ]
  },
  {
   "cell_type": "code",
   "execution_count": 41,
   "id": "94a9a4ec",
   "metadata": {},
   "outputs": [],
   "source": [
    "df_for_50 = df.drop(columns=['월급', '월별 할부 지불액', '월별 투자금액', '월 계좌 잔액', '남아있는 부채', '신용카드 이자율', '평균 연체일수', '평균 연체횟수'])"
   ]
  },
  {
   "cell_type": "code",
   "execution_count": 42,
   "id": "31d6f913",
   "metadata": {},
   "outputs": [],
   "source": [
    "# 소비패턴 = High spent / Low spent\n",
    "df_for_50['소비패턴'] = np.where((df_for_50['고객의 소비패턴'] == 0) | (df_for_50['고객의 소비패턴'] == 1) | (df_for_50['고객의 소비패턴'] == 2), 'High', 'Low')"
   ]
  },
  {
   "cell_type": "code",
   "execution_count": 43,
   "id": "3a9341e6",
   "metadata": {},
   "outputs": [],
   "source": [
    "le = LabelEncoder()\n",
    "\n",
    "df_for_50['소비패턴'] = le.fit_transform(df_for_50['소비패턴'])"
   ]
  },
  {
   "cell_type": "code",
   "execution_count": 44,
   "id": "4a653784",
   "metadata": {},
   "outputs": [
    {
     "data": {
      "text/plain": [
       "Index(['고객ID', '월', '나이', '직업', '연수입', '계좌 수', '신용카드 수', '대출수', '카드 한도 변경',\n",
       "       '신용카드 조회 횟수', '신용예측 정도', '신용카드 이용률 비율', '계좌개설 나이', '최소금액 지불 여부',\n",
       "       '고객의 소비패턴', '신용점수', 'AutoLoan', 'Credit-BuilderLoan', 'PersonalLoan',\n",
       "       'HomeEquityLoan', 'NotSpecified', 'None', 'MortgageLoan', 'StudentLoan',\n",
       "       'DebtConsolidationLoan', 'PaydayLoan', '소비금액', '이자금액', '연체기간',\n",
       "       '부채 대 소득 비율', '연령대', 'cluster', '소비패턴'],\n",
       "      dtype='object')"
      ]
     },
     "execution_count": 44,
     "metadata": {},
     "output_type": "execute_result"
    }
   ],
   "source": [
    "df_for_50.columns"
   ]
  },
  {
   "cell_type": "code",
   "execution_count": 46,
   "id": "6cdf9cf9",
   "metadata": {},
   "outputs": [],
   "source": [
    "df_for_50 = df_for_50.rename(columns={\"연수입\" : \"연소득\", \"신용예측 정도\" : \"신용혼합도\", '카드 한도 변경' : \"카드 한도 변경률\", '계좌개설 나이' : \"계좌개설 경과기간(월)\", '고객의 소비패턴' : \"대출 상환 성향\", '신용점수' : '신용등급'})"
   ]
  },
  {
   "cell_type": "code",
   "execution_count": 48,
   "id": "5c588c71",
   "metadata": {},
   "outputs": [
    {
     "data": {
      "text/plain": [
       "Index(['고객ID', '월', '나이', '직업', '연소득', '계좌 수', '신용카드 수', '대출수', '카드 한도 변경률',\n",
       "       '신용카드 조회 횟수', '신용혼합도', '신용카드 이용률 비율', '계좌개설 경과기간(월)', '최소금액 지불 여부',\n",
       "       '대출 상환 성향', '신용등급', 'AutoLoan', 'Credit-BuilderLoan', 'PersonalLoan',\n",
       "       'HomeEquityLoan', 'NotSpecified', 'None', 'MortgageLoan', 'StudentLoan',\n",
       "       'DebtConsolidationLoan', 'PaydayLoan', '소비금액', '이자금액', '연체기간',\n",
       "       '부채 대 소득 비율', '연령대', 'cluster', '소비패턴'],\n",
       "      dtype='object')"
      ]
     },
     "execution_count": 48,
     "metadata": {},
     "output_type": "execute_result"
    }
   ],
   "source": [
    "df_for_50.columns"
   ]
  },
  {
   "cell_type": "code",
   "execution_count": 49,
   "id": "a19e650b",
   "metadata": {},
   "outputs": [],
   "source": [
    "df_for_50.to_csv(\"./Dataset/df_for_50.csv\", index=False)"
   ]
  },
  {
   "cell_type": "code",
   "execution_count": 51,
   "id": "61b83095",
   "metadata": {},
   "outputs": [],
   "source": [
    "df_for_46 = df_for_50[df_for_50['나이']>=46]\n",
    "df_for_46.to_csv(\"./Dataset/df_for_46.csv\", index=False)"
   ]
  },
  {
   "cell_type": "code",
   "execution_count": 52,
   "id": "0c19f0df",
   "metadata": {},
   "outputs": [],
   "source": [
    "df_for = df_for_50[df_for_50['나이']<46]\n",
    "df_for.to_csv(\"./Dataset/df_for.csv\", index=False)"
   ]
  },
  {
   "cell_type": "code",
   "execution_count": 5,
   "id": "e7a9de2a",
   "metadata": {},
   "outputs": [
    {
     "data": {
      "text/plain": [
       "Index(['고객ID', '월', '나이', '직업', '연소득', '계좌 수', '신용카드 수', '대출수', '카드 한도 변경률',\n",
       "       '신용카드 조회 횟수', '신용혼합도', '신용카드 이용률 비율', '계좌개설 경과기간(월)', '최소금액 지불 여부',\n",
       "       '대출 상환 성향', '신용등급', 'AutoLoan', 'Credit-BuilderLoan', 'PersonalLoan',\n",
       "       'HomeEquityLoan', 'NotSpecified', 'None', 'MortgageLoan', 'StudentLoan',\n",
       "       'DebtConsolidationLoan', 'PaydayLoan', '소비금액', '이자금액', '연체기간',\n",
       "       '부채 대 소득 비율', '연령대', 'cluster', '소비패턴'],\n",
       "      dtype='object')"
      ]
     },
     "execution_count": 5,
     "metadata": {},
     "output_type": "execute_result"
    }
   ],
   "source": [
    "df = pd.read_csv(\"./Dataset/df_for.csv\")\n",
    "df.columns"
   ]
  },
  {
   "cell_type": "code",
   "execution_count": 6,
   "id": "bffd8a18",
   "metadata": {},
   "outputs": [
    {
     "data": {
      "text/plain": [
       "0        0\n",
       "1        1\n",
       "2        1\n",
       "3        1\n",
       "4        0\n",
       "        ..\n",
       "85703    0\n",
       "85704    0\n",
       "85705    0\n",
       "85706    1\n",
       "85707    0\n",
       "Name: 소비패턴, Length: 85708, dtype: int64"
      ]
     },
     "execution_count": 6,
     "metadata": {},
     "output_type": "execute_result"
    }
   ],
   "source": [
    "df['소비패턴']"
   ]
  },
  {
   "cell_type": "code",
   "execution_count": 7,
   "id": "1324f263",
   "metadata": {},
   "outputs": [
    {
     "data": {
      "text/plain": [
       "count    38739.000000\n",
       "mean      4163.836494\n",
       "std       2801.378401\n",
       "min         27.600625\n",
       "25%       2042.087750\n",
       "50%       3570.472500\n",
       "75%       5701.326000\n",
       "max      13444.170000\n",
       "Name: 소비금액, dtype: float64"
      ]
     },
     "execution_count": 7,
     "metadata": {},
     "output_type": "execute_result"
    }
   ],
   "source": [
    "df[df['소비패턴']==0]['소비금액'].describe()"
   ]
  },
  {
   "cell_type": "code",
   "execution_count": 8,
   "id": "c991fbf9",
   "metadata": {},
   "outputs": [
    {
     "data": {
      "text/plain": [
       "count    46969.000000\n",
       "mean      2697.179883\n",
       "std       2593.738706\n",
       "min        -16.719125\n",
       "25%        907.227250\n",
       "50%       1687.343750\n",
       "75%       3876.016750\n",
       "max      14116.532250\n",
       "Name: 소비금액, dtype: float64"
      ]
     },
     "execution_count": 8,
     "metadata": {},
     "output_type": "execute_result"
    }
   ],
   "source": [
    "df[df['소비패턴']==1]['소비금액'].describe()"
   ]
  },
  {
   "cell_type": "code",
   "execution_count": null,
   "id": "e8e548f5",
   "metadata": {},
   "outputs": [],
   "source": []
  }
 ],
 "metadata": {
  "kernelspec": {
   "display_name": "Python 3 (ipykernel)",
   "language": "python",
   "name": "python3"
  },
  "language_info": {
   "codemirror_mode": {
    "name": "ipython",
    "version": 3
   },
   "file_extension": ".py",
   "mimetype": "text/x-python",
   "name": "python",
   "nbconvert_exporter": "python",
   "pygments_lexer": "ipython3",
   "version": "3.8.16"
  }
 },
 "nbformat": 4,
 "nbformat_minor": 5
}
